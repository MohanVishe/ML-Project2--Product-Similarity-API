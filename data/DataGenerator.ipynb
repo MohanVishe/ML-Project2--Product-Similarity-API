{
 "cells": [
  {
   "cell_type": "code",
   "execution_count": 1,
   "metadata": {},
   "outputs": [],
   "source": [
    "from openai import OpenAI\n",
    "import pandas as pd"
   ]
  },
  {
   "cell_type": "code",
   "execution_count": 2,
   "metadata": {},
   "outputs": [],
   "source": [
    "client=OpenAI()"
   ]
  },
  {
   "cell_type": "code",
   "execution_count": 3,
   "metadata": {},
   "outputs": [],
   "source": [
    "OPENAI_API_KEY=\"sk-\""
   ]
  },
  {
   "cell_type": "code",
   "execution_count": 23,
   "metadata": {},
   "outputs": [],
   "source": [
    "from openai import OpenAI\n",
    "client = OpenAI()\n",
    "\n",
    "\n",
    "completion = client.chat.completions.create(\n",
    "  model=\"gpt-3.5-turbo\",\n",
    "  messages=[\n",
    "    {\"role\": \"system\", \"content\": \"Data Generating assistance\"},\n",
    "    {\"role\": \"user\", \"content\": \"Generate csv data with 16 rows which contain columns such as poduct name(does not repeat),description(at least 3 sentence),price,category,rating,\"}\n",
    "  ]\n",
    ")"
   ]
  },
  {
   "cell_type": "code",
   "execution_count": 24,
   "metadata": {},
   "outputs": [],
   "source": [
    "data=dict(completion.choices[0].message)[\"content\"]"
   ]
  },
  {
   "cell_type": "code",
   "execution_count": 25,
   "metadata": {},
   "outputs": [
    {
     "data": {
      "text/plain": [
       "'Sure! Here is an example CSV data with 16 rows containing product name, description, price, category, and rating:\\n\\n```\\nProduct Name,Description,Price,Category,Rating\\nLaptop,\"The new XYZ laptop is perfect for both work and play. With its sleek design and high performance, you can breeze through your daily tasks with ease. It comes with a powerful processor, ample storage, and a crisp display.\",$999,Electronics,4.5\\nSmartphone,\"Stay connected and organized with the latest ABC smartphone. This feature-packed device offers a stunning display, top-notch camera, and fast performance. Whether you\\'re gaming, taking photos, or simply browsing the web, this smartphone has you covered.\",$799,Electronics,4.2\\nRunning Shoes,\"Hit the ground running with our comfortable and durable running shoes. Designed for maximum performance and support, these shoes will take your workouts to the next level. With breathable materials and cushioned soles, you\\'ll be ready to conquer any race.\",$99,Footwear,4.6\\nYoga Mat,\"Achieve zen with our premium yoga mat. Made from eco-friendly materials and featuring a non-slip surface, this mat provides the perfect foundation for your yoga practice. Whether you\\'re a beginner or a seasoned yogi, this mat is sure to enhance your sessions.\",$49,Fitness,4.8\\nCoffee Maker,\"Start your day right with our state-of-the-art coffee maker. Brew your favorite blend at the touch of a button and enjoy a fresh cup of coffee in minutes. With programmable features and a sleek design, this coffee maker is a must-have for caffeine lovers.\",$129,Kitchen Appliances,4.3\\nWireless Headphones,\"Cut the cord and enjoy the freedom of wireless listening with our Bluetooth headphones. Immerse yourself in your favorite music or podcasts with clear sound quality and comfortable ear cushions. With long battery life and easy connectivity, these headphones are perfect for on-the-go.\",$79,Electronics,4.4\\nDress,\"Make a statement with our elegant and versatile dress. Whether you\\'re attending a formal event or a casual gathering, this dress is sure to turn heads. With its flattering silhouette and high-quality fabric, you\\'ll feel confident and stylish wherever you go.\",$129,Apparel,4.7\\nGaming Chair,\"Upgrade your gaming setup with our ergonomic gaming chair. Designed for comfort and support during long gaming sessions, this chair features adjustable settings and lumbar support. With a sleek design and sturdy construction, this chair is a gamer\\'s dream come true.\",$199,Home & Office,4.5\\nCookware Set,\"Cook like a pro with our premium cookware set. Whether you\\'re sautéing, simmering, or frying, this set has everything you need to whip up delicious meals. With durable construction and non-stick surfaces, cooking has never been easier or more enjoyable.\",$149,Kitchenware,4.6\\nDumbbell Set,\"Build strength and muscle with our versatile dumbbell set. Featuring a range of weights and a convenient storage rack, this set is perfect for at-home workouts. Whether you\\'re a beginner or a seasoned lifter, these dumbbells will help you reach your fitness goals.\",$79,Fitness,4.7\\nComforter Set,\"Transform your bedroom into a cozy oasis with our luxurious comforter set. Made from soft and hypoallergenic materials, this set will keep you warm and comfortable all night long. With stylish patterns and colors to choose from, you can personalize your sleep space with ease.\",$89,Home & Decor,4.4\\nPortable Speaker,\"Take your music anywhere with our portable Bluetooth speaker. Whether you\\'re at the beach, the park, or a party, this speaker delivers crisp sound and impressive bass. With a long-lasting battery and rugged design, this speaker is built for adventures.\",$59,Electronics,4.2\\nSunglasses,\"Protect your eyes in style with our trendy sunglasses. Made from durable materials and featuring UV protection, these sunglasses will keep your eyes safe from the sun\\'s harmful rays. Whether you\\'re lounging by the pool or hitting the slopes, these sunglasses are a must-have accessory.\",$49,Accessories,4.6\\nBackpack,\"Stay organized on the go with our versatile backpack. With multiple compartments, padded straps, and durable construction, this backpack is perfect for daily commutes, travel, or outdoor adventures. Whether you\\'re carrying textbooks, a laptop, or hiking gear, this backpack has you covered.\",$69,Travel & Accessories,4.5\\nWatch,\"Add a touch of class to your wrist with our stylish watch. Featuring a sleek design and reliable timekeeping, this watch is perfect for everyday wear or special occasions. With a variety of straps and finishes to choose from, you can find the perfect watch to complement your style.\",$99,Accessories,4.8\\nWater Bottle,\"Stay hydrated on the go with our durable water bottle. Made from high-quality materials and featuring a leak-proof design, this bottle is perfect for workouts, hikes, or everyday use. With a stylish look and convenient size, you can stay refreshed wherever you are.\",$19,Travel & Accessories,4.3\\n``` \\n\\nPlease note that this is generated data and all the details are fictional. You can modify and add more rows as needed.'"
      ]
     },
     "execution_count": 25,
     "metadata": {},
     "output_type": "execute_result"
    }
   ],
   "source": [
    "data"
   ]
  },
  {
   "cell_type": "code",
   "execution_count": 27,
   "metadata": {},
   "outputs": [
    {
     "name": "stdout",
     "output_type": "stream",
     "text": [
      "CSV file saved successfully.\n"
     ]
    }
   ],
   "source": [
    "# String containing CSV data\n",
    "csv_string = data\n",
    "\n",
    "# Find the start and end indices of the CSV data\n",
    "start_index = csv_string.find('```') + 3\n",
    "end_index = csv_string.rfind('```')\n",
    "\n",
    "# Extract the CSV data\n",
    "csv_data = csv_string[start_index:end_index].strip()\n",
    "\n",
    "# Load the CSV data into a DataFrame\n",
    "csv_df = pd.read_csv(StringIO(csv_data))\n",
    "\n",
    "# Save DataFrame to CSV file\n",
    "csv_df.to_csv('Generated_Product_Data.csv', index=False)\n",
    "\n",
    "print(\"CSV file saved successfully.\")"
   ]
  }
 ],
 "metadata": {
  "kernelspec": {
   "display_name": "Python 3",
   "language": "python",
   "name": "python3"
  },
  "language_info": {
   "codemirror_mode": {
    "name": "ipython",
    "version": 3
   },
   "file_extension": ".py",
   "mimetype": "text/x-python",
   "name": "python",
   "nbconvert_exporter": "python",
   "pygments_lexer": "ipython3",
   "version": "3.12.2"
  }
 },
 "nbformat": 4,
 "nbformat_minor": 2
}
