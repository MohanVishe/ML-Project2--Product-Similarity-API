{
 "cells": [
  {
   "cell_type": "code",
   "execution_count": 6,
   "metadata": {},
   "outputs": [],
   "source": [
    "import requests\n",
    "\n",
    "# Define the endpoint URL\n",
    "url = \"http://127.0.0.1:8000/similar_products\"\n",
    "\n",
    "# Define the request payload (data to be sent to the endpoint)\n",
    "data = {\n",
    "    \"name\": \"cooking utensils\",\n",
    "    \"min_price\": 0,\n",
    "    \"max_price\": 10000,\n",
    "    \"min_rating\": 0.0,\n",
    "    \"max_rating\": 5.0\n",
    "}\n",
    "\n",
    "# Define the token (if your endpoint requires authentication)\n",
    "headers = {\n",
    "    \"token\": \"abc\"\n",
    "}\n",
    "\n",
    "# Make the POST request\n",
    "response = requests.post(url, json=data, headers=headers)"
   ]
  },
  {
   "cell_type": "code",
   "execution_count": 8,
   "metadata": {},
   "outputs": [
    {
     "data": {
      "text/plain": [
       "[{'Category': 'Kitchenware',\n",
       "  'Description': \"cook like pro premium cookware set whether 're sautéing simmering frying set everything need whip delicious meal durable construction non-stick surface cooking never easier enjoyable\",\n",
       "  'Price': '$149',\n",
       "  'Product Name': 'Cookware Set',\n",
       "  'Rating': 4.6},\n",
       " {'Category': 'Kitchen Appliances',\n",
       "  'Description': 'start day right state-of-the-art coffee maker brew favorite blend touch button enjoy fresh cup coffee minute programmable feature sleek design coffee maker must-have caffeine lover',\n",
       "  'Price': '$129',\n",
       "  'Product Name': 'Coffee Maker',\n",
       "  'Rating': 4.3},\n",
       " {'Category': 'Fitness',\n",
       "  'Description': \"build strength muscle versatile dumbbell set featuring range weight convenient storage rack set perfect at-home workout whether 're beginner seasoned lifter dumbbell help reach fitness goal\",\n",
       "  'Price': '$79',\n",
       "  'Product Name': 'Dumbbell Set',\n",
       "  'Rating': 4.7}]"
      ]
     },
     "execution_count": 8,
     "metadata": {},
     "output_type": "execute_result"
    }
   ],
   "source": [
    "response.json()"
   ]
  }
 ],
 "metadata": {
  "kernelspec": {
   "display_name": "Python 3",
   "language": "python",
   "name": "python3"
  },
  "language_info": {
   "codemirror_mode": {
    "name": "ipython",
    "version": 3
   },
   "file_extension": ".py",
   "mimetype": "text/x-python",
   "name": "python",
   "nbconvert_exporter": "python",
   "pygments_lexer": "ipython3",
   "version": "3.12.2"
  }
 },
 "nbformat": 4,
 "nbformat_minor": 2
}
